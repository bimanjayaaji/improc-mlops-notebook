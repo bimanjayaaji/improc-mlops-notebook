{
 "cells": [
  {
   "cell_type": "markdown",
   "id": "2dd8fe04-a8fa-49fe-b619-ebad2c7927ff",
   "metadata": {},
   "source": [
    "# video basics 1 (5.36)"
   ]
  },
  {
   "cell_type": "code",
   "execution_count": 1,
   "id": "9509cd26-942b-48d5-816a-81e3515916c2",
   "metadata": {},
   "outputs": [
    {
     "name": "stderr",
     "output_type": "stream",
     "text": [
      "[ WARN:0@0.047] global cap_gstreamer.cpp:1173 isPipelinePlaying OpenCV | GStreamer warning: GStreamer: pipeline have not been created\n",
      "OpenCV: FFMPEG: tag 0x44495658/'XVID' is not supported with codec id 12 and format 'mp4 / MP4 (MPEG-4 Part 14)'\n",
      "OpenCV: FFMPEG: fallback to use tag 0x7634706d/'mp4v'\n",
      "Warning: Ignoring XDG_SESSION_TYPE=wayland on Gnome. Use QT_QPA_PLATFORM=wayland to run on Wayland anyway.\n",
      "MESA-LOADER: failed to open radeonsi: /usr/lib/dri/radeonsi_dri.so: cannot open shared object file: No such file or directory (search paths /usr/lib/x86_64-linux-gnu/dri:\\$${ORIGIN}/dri:/usr/lib/dri, suffix _dri)\n",
      "failed to load driver: radeonsi\n",
      "MESA-LOADER: failed to open swrast: /usr/lib/dri/swrast_dri.so: cannot open shared object file: No such file or directory (search paths /usr/lib/x86_64-linux-gnu/dri:\\$${ORIGIN}/dri:/usr/lib/dri, suffix _dri)\n"
     ]
    }
   ],
   "source": [
    "# run this in a script\n",
    "\n",
    "import cv2\n",
    "\n",
    "cap = cv2.VideoCapture(0) # grab default camera\n",
    "\n",
    "width = int(cap.get(cv2.CAP_PROP_FRAME_WIDTH))\n",
    "height = int(cap.get(cv2.CAP_PROP_FRAME_HEIGHT))\n",
    "\n",
    "# windows --> DIVX\n",
    "# LINUX --> XVID\n",
    "\n",
    "writer = cv2.VideoWriter('logs/videosFromCamera.mp4',cv2.VideoWriter_fourcc(*'XVID'),20,(width,height)) # read the docs\n",
    "\n",
    "while True:\n",
    "    ret,frame = cap.read() # returning single images everytime\n",
    "    # gray = cv2.cvtColor(frame,cv2.COLOR_BGR2GRAY)\n",
    "    # cv2.imshow('frame',gray)\n",
    "    ret, thresh1 = cv2.threshold(frame,127,255,cv2.THRESH_BINARY)\n",
    "\n",
    "    writer.write(thresh1)\n",
    "    \n",
    "    cv2.imshow('frame',thresh1)\n",
    "\n",
    "    if cv2.waitKey(10) & 0xFF == ord('q'):\n",
    "        break\n",
    "\n",
    "cap.release() # stop capturing\n",
    "writer.release()\n",
    "cv2.destroyAllWindows()"
   ]
  },
  {
   "cell_type": "markdown",
   "id": "ff51a91a-d280-4b47-a025-c3f40a904061",
   "metadata": {},
   "source": [
    "# video basics 2 (5.37)"
   ]
  },
  {
   "cell_type": "code",
   "execution_count": 1,
   "id": "d0c9120d-1d14-4757-ba1a-3182cf70f40b",
   "metadata": {},
   "outputs": [],
   "source": [
    "# opening videos"
   ]
  },
  {
   "cell_type": "code",
   "execution_count": 1,
   "id": "471ef475-bcd0-470a-9f04-d5d221dfce2e",
   "metadata": {},
   "outputs": [
    {
     "name": "stderr",
     "output_type": "stream",
     "text": [
      "Warning: Ignoring XDG_SESSION_TYPE=wayland on Gnome. Use QT_QPA_PLATFORM=wayland to run on Wayland anyway.\n",
      "MESA-LOADER: failed to open radeonsi: /usr/lib/dri/radeonsi_dri.so: cannot open shared object file: No such file or directory (search paths /usr/lib/x86_64-linux-gnu/dri:\\$${ORIGIN}/dri:/usr/lib/dri, suffix _dri)\n",
      "failed to load driver: radeonsi\n",
      "MESA-LOADER: failed to open swrast: /usr/lib/dri/swrast_dri.so: cannot open shared object file: No such file or directory (search paths /usr/lib/x86_64-linux-gnu/dri:\\$${ORIGIN}/dri:/usr/lib/dri, suffix _dri)\n"
     ]
    }
   ],
   "source": [
    "import cv2\n",
    "import time\n",
    "\n",
    "cap = cv2.VideoCapture('logs/videosFromCamera.mp4')\n",
    "\n",
    "if cap.isOpened() == False:\n",
    "    print('failed to open video')\n",
    "\n",
    "while cap.isOpened():\n",
    "    ret,frame = cap.read()\n",
    "\n",
    "    if ret == True:\n",
    "        \n",
    "        # writer 20fps\n",
    "        time.sleep(1/20) # to make the video plays in 20fps. defaultly will display the video really fast\n",
    "        cv2.imshow('frame',frame)\n",
    "\n",
    "        if cv2.waitKey(10) & 0xFF == ord('q'):\n",
    "            break\n",
    "\n",
    "    else:\n",
    "        break\n",
    "\n",
    "cap.release()\n",
    "cv2.destroyAllWindows()"
   ]
  },
  {
   "cell_type": "markdown",
   "id": "72c1f10f-d347-41d0-95da-4a4c59434bc1",
   "metadata": {},
   "source": [
    "# video basics 3 (5.38)"
   ]
  },
  {
   "cell_type": "code",
   "execution_count": 1,
   "id": "afacde96-871b-46d8-b36e-9dd54e3c5200",
   "metadata": {},
   "outputs": [],
   "source": [
    "# drawing on a video"
   ]
  },
  {
   "cell_type": "code",
   "execution_count": 2,
   "id": "1df3fcbb-386f-4df3-8a44-158b87e8a961",
   "metadata": {},
   "outputs": [
    {
     "name": "stderr",
     "output_type": "stream",
     "text": [
      "[ WARN:0@7.755] global cap_gstreamer.cpp:1173 isPipelinePlaying OpenCV | GStreamer warning: GStreamer: pipeline have not been created\n"
     ]
    }
   ],
   "source": [
    "import cv2\n",
    "\n",
    "cap = cv2.VideoCapture(0)\n",
    "\n",
    "width = int(cap.get(cv2.CAP_PROP_FRAME_WIDTH))\n",
    "height = int(cap.get(cv2.CAP_PROP_FRAME_HEIGHT))\n",
    "\n",
    "# TL\n",
    "x = width // 2 # // making sure that x is int\n",
    "y = height // 2\n",
    "\n",
    "# w and h\n",
    "w = width // 4\n",
    "h = height // 4\n",
    "\n",
    "while True:\n",
    "    ret,frame = cap.read()\n",
    "\n",
    "    cv2.rectangle(frame,(x,y),(x+w,y+h),color=(0,0,255),thickness=3)\n",
    "\n",
    "    cv2.imshow('frame',frame)\n",
    "\n",
    "    if cv2.waitKey(10) & 0xFF == ord('q'):\n",
    "        break\n",
    "\n",
    "cap.release()\n",
    "cv2.destroyAllWindows()"
   ]
  },
  {
   "cell_type": "code",
   "execution_count": 1,
   "id": "c0f797cd-ba6c-440a-9a50-429c165cbd46",
   "metadata": {},
   "outputs": [],
   "source": [
    "# interactively draw on a video"
   ]
  },
  {
   "cell_type": "code",
   "execution_count": 4,
   "id": "bd831909-cb85-45d6-be73-e653b172ab71",
   "metadata": {},
   "outputs": [
    {
     "name": "stderr",
     "output_type": "stream",
     "text": [
      "[ WARN:0@422.448] global cap_gstreamer.cpp:1173 isPipelinePlaying OpenCV | GStreamer warning: GStreamer: pipeline have not been created\n"
     ]
    }
   ],
   "source": [
    "import cv2\n",
    "\n",
    "# callback function\n",
    "def draw_rectangle(event,x,y,flags,param):\n",
    "    \n",
    "    global pt1,pt2,tl_clicked,br_clicked\n",
    "    \n",
    "    if event == cv2.EVENT_LBUTTONDOWN:\n",
    "        if tl_clicked and br_clicked:\n",
    "            pt1 = (0,0)\n",
    "            pt2 = (0,0)\n",
    "            tl_clicked = False\n",
    "            br_clicked = False\n",
    "        if not tl_clicked:\n",
    "            pt1 = (x,y)\n",
    "            tl_clicked = True\n",
    "        elif not br_clicked:\n",
    "            pt2 = (x,y)\n",
    "            br_clicked = True\n",
    "\n",
    "# global variables\n",
    "pt1 = (0,0)\n",
    "pt2 = (0,0)\n",
    "tl_clicked = False\n",
    "br_clicked = False\n",
    "\n",
    "# connect to the callback\n",
    "cap = cv2.VideoCapture(0)\n",
    "cv2.namedWindow('Test')\n",
    "cv2.setMouseCallback('Test',draw_rectangle)\n",
    "\n",
    "while True:\n",
    "    ret,frame = cap.read()\n",
    "\n",
    "    #drawing\n",
    "    if tl_clicked:\n",
    "        cv2.circle(frame,center=pt1,radius=5,color=(0,0,255),thickness=-1)\n",
    "\n",
    "    if tl_clicked and br_clicked:\n",
    "        cv2.rectangle(frame,pt1,pt2,(0,0,255),3)\n",
    "\n",
    "    cv2.imshow('Test',frame)\n",
    "\n",
    "    if cv2.waitKey(10) & 0xFF == ord('q'):\n",
    "        break\n",
    "\n",
    "cap.release()\n",
    "cv2.destroyAllWindows()"
   ]
  },
  {
   "cell_type": "code",
   "execution_count": null,
   "id": "d54e307f-04d6-48d2-a4cb-b69c84186019",
   "metadata": {},
   "outputs": [],
   "source": []
  }
 ],
 "metadata": {
  "kernelspec": {
   "display_name": "ImProc",
   "language": "python",
   "name": "improc"
  },
  "language_info": {
   "codemirror_mode": {
    "name": "ipython",
    "version": 3
   },
   "file_extension": ".py",
   "mimetype": "text/x-python",
   "name": "python",
   "nbconvert_exporter": "python",
   "pygments_lexer": "ipython3",
   "version": "3.12.0"
  }
 },
 "nbformat": 4,
 "nbformat_minor": 5
}
